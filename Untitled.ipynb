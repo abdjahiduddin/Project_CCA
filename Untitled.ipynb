{
 "cells": [
  {
   "cell_type": "code",
   "execution_count": 2,
   "metadata": {},
   "outputs": [],
   "source": [
    "import pandas as pd\n",
    "from datetime import datetime\n",
    "from decimal import Decimal"
   ]
  },
  {
   "cell_type": "code",
   "execution_count": 3,
   "metadata": {},
   "outputs": [],
   "source": [
    "import boto3\n",
    "from boto3.dynamodb.conditions import Key,Attr"
   ]
  },
  {
   "cell_type": "code",
   "execution_count": 4,
   "metadata": {},
   "outputs": [],
   "source": [
    "client = boto3.client('dynamodb')\n",
    "resource = boto3.resource('dynamodb')"
   ]
  },
  {
   "cell_type": "code",
   "execution_count": 5,
   "metadata": {
    "scrolled": true
   },
   "outputs": [],
   "source": [
    "timestamp = 1566185600\n",
    "dt_object = datetime.fromtimestamp(timestamp)\n",
    "\n",
    "date = str(dt_object).split(\" \")[0]\n",
    "\n",
    "min_time = date + \" \" + \"00:00:01\"\n",
    "max_time = date + \" \" + \"23:59:59\"\n",
    "\n",
    "min_do = datetime.strptime(min_time, '%Y-%m-%d %H:%M:%S')\n",
    "max_do = datetime.strptime(max_time, '%Y-%m-%d %H:%M:%S')\n",
    "\n",
    "min_ts = datetime.timestamp(min_do)\n",
    "max_ts = datetime.timestamp(max_do)"
   ]
  },
  {
   "cell_type": "code",
   "execution_count": 10,
   "metadata": {},
   "outputs": [
    {
     "name": "stdout",
     "output_type": "stream",
     "text": [
      "[[60.0, 121.5, 136.5, 112.5, 60.0], [136.5, 121.5, 136.5, 112.5, 60.0], [130.0, 120.0, 115.0, 110.0, 105.0], [121.5, 121.5, 136.5, 112.5, 60.0], [112.5, 60.0, 136.5, 112.5, 60.0], [76.5, 121.5, 136.5, 112.5, 60.0]]\n"
     ]
    }
   ],
   "source": [
    "# GET TABLE LIST\n",
    "response = client.list_tables()\n",
    "list_tables = []\n",
    "list_data = []\n",
    "for item in response[\"TableNames\"]:\n",
    "    list_tables.append(item)\n",
    "\n",
    "#GET NEW DATA FROM EACH TABLES\n",
    "for item in list_tables:\n",
    "    tmp = []\n",
    "    table = resource.Table(item)\n",
    "    response = table.query(\n",
    "        KeyConditionExpression=Key('ID').eq(item) & Key('Timestamp').between(Decimal(min_ts),Decimal(max_ts)),\n",
    "        ScanIndexForward= False\n",
    "    )\n",
    "    for data in response['Items']:\n",
    "        tmp.append(float(data['Filled']))\n",
    "    list_data.append(tmp)\n",
    "\n",
    "print(list_data)\n",
    "    "
   ]
  },
  {
   "cell_type": "code",
   "execution_count": 12,
   "metadata": {},
   "outputs": [
    {
     "data": {
      "text/html": [
       "<div>\n",
       "<style scoped>\n",
       "    .dataframe tbody tr th:only-of-type {\n",
       "        vertical-align: middle;\n",
       "    }\n",
       "\n",
       "    .dataframe tbody tr th {\n",
       "        vertical-align: top;\n",
       "    }\n",
       "\n",
       "    .dataframe thead th {\n",
       "        text-align: right;\n",
       "    }\n",
       "</style>\n",
       "<table border=\"1\" class=\"dataframe\">\n",
       "  <thead>\n",
       "    <tr style=\"text-align: right;\">\n",
       "      <th></th>\n",
       "      <th>0</th>\n",
       "      <th>1</th>\n",
       "      <th>2</th>\n",
       "      <th>3</th>\n",
       "      <th>4</th>\n",
       "    </tr>\n",
       "  </thead>\n",
       "  <tbody>\n",
       "    <tr>\n",
       "      <th>0</th>\n",
       "      <td>60.0</td>\n",
       "      <td>121.5</td>\n",
       "      <td>136.5</td>\n",
       "      <td>112.5</td>\n",
       "      <td>60.0</td>\n",
       "    </tr>\n",
       "    <tr>\n",
       "      <th>1</th>\n",
       "      <td>136.5</td>\n",
       "      <td>121.5</td>\n",
       "      <td>136.5</td>\n",
       "      <td>112.5</td>\n",
       "      <td>60.0</td>\n",
       "    </tr>\n",
       "    <tr>\n",
       "      <th>2</th>\n",
       "      <td>130.0</td>\n",
       "      <td>120.0</td>\n",
       "      <td>115.0</td>\n",
       "      <td>110.0</td>\n",
       "      <td>105.0</td>\n",
       "    </tr>\n",
       "    <tr>\n",
       "      <th>3</th>\n",
       "      <td>121.5</td>\n",
       "      <td>121.5</td>\n",
       "      <td>136.5</td>\n",
       "      <td>112.5</td>\n",
       "      <td>60.0</td>\n",
       "    </tr>\n",
       "    <tr>\n",
       "      <th>4</th>\n",
       "      <td>112.5</td>\n",
       "      <td>60.0</td>\n",
       "      <td>136.5</td>\n",
       "      <td>112.5</td>\n",
       "      <td>60.0</td>\n",
       "    </tr>\n",
       "    <tr>\n",
       "      <th>5</th>\n",
       "      <td>76.5</td>\n",
       "      <td>121.5</td>\n",
       "      <td>136.5</td>\n",
       "      <td>112.5</td>\n",
       "      <td>60.0</td>\n",
       "    </tr>\n",
       "  </tbody>\n",
       "</table>\n",
       "</div>"
      ],
      "text/plain": [
       "       0      1      2      3      4\n",
       "0   60.0  121.5  136.5  112.5   60.0\n",
       "1  136.5  121.5  136.5  112.5   60.0\n",
       "2  130.0  120.0  115.0  110.0  105.0\n",
       "3  121.5  121.5  136.5  112.5   60.0\n",
       "4  112.5   60.0  136.5  112.5   60.0\n",
       "5   76.5  121.5  136.5  112.5   60.0"
      ]
     },
     "execution_count": 12,
     "metadata": {},
     "output_type": "execute_result"
    }
   ],
   "source": [
    "df = pd.DataFrame(list_data)\n",
    "df"
   ]
  },
  {
   "cell_type": "code",
   "execution_count": 14,
   "metadata": {},
   "outputs": [
    {
     "data": {
      "text/plain": [
       "[98.1, 113.4, 116.0, 110.4, 96.3, 101.4]"
      ]
     },
     "execution_count": 14,
     "metadata": {},
     "output_type": "execute_result"
    }
   ],
   "source": [
    "mean = df.mean(axis=1)\n",
    "mean = mean.tolist()\n",
    "mean"
   ]
  },
  {
   "cell_type": "code",
   "execution_count": 19,
   "metadata": {},
   "outputs": [
    {
     "name": "stdout",
     "output_type": "stream",
     "text": [
      "[{'11-AA': Decimal('98.099999999999994315658113919198513031005859375')}, {'21-BA': Decimal('113.400000000000005684341886080801486968994140625')}, {'31-CA': Decimal('116')}, {'41-DA': Decimal('110.400000000000005684341886080801486968994140625')}, {'51-EA': Decimal('96.2999999999999971578290569595992565155029296875')}, {'61-FA': Decimal('101.400000000000005684341886080801486968994140625')}]\n"
     ]
    }
   ],
   "source": [
    "final_data = []\n",
    "for i, j in enumerate(list_tables):\n",
    "    final_data.append({j:Decimal(mean[i])})\n",
    "print(final_data)"
   ]
  }
 ],
 "metadata": {
  "kernelspec": {
   "display_name": "Python 3",
   "language": "python",
   "name": "python3"
  },
  "language_info": {
   "codemirror_mode": {
    "name": "ipython",
    "version": 3
   },
   "file_extension": ".py",
   "mimetype": "text/x-python",
   "name": "python",
   "nbconvert_exporter": "python",
   "pygments_lexer": "ipython3",
   "version": "3.7.3"
  }
 },
 "nbformat": 4,
 "nbformat_minor": 2
}
